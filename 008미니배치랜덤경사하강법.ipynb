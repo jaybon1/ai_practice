{
 "cells": [
  {
   "cell_type": "code",
   "execution_count": 11,
   "metadata": {},
   "outputs": [
    {
     "name": "stdout",
     "output_type": "stream",
     "text": [
      "[[176.7 168.1 180.1 179.5 173.4 174.8 185.4 177.6 168.5 174.6 178.7 173.4\n",
      "  172.6 173.3 159.7 179.3 171.9 183.6 180.9 172.8 168.7 173.8 180.1 169.6\n",
      "  169.2 170.8 174.3 168.2 162.3 171. ]\n",
      " [ 79.9  56.7  90.   73.9  58.7  72.6  69.6  69.6  68.5  59.5  87.4  64.3\n",
      "   88.   86.5  68.3  75.2  82.5 170.1  77.3  64.9  49.6  62.1 100.8  61.6\n",
      "   80.3  61.4  85.9  67.8  54.5  64.6]]\n"
     ]
    }
   ],
   "source": [
    "import numpy as np\n",
    "import pandas as pd\n",
    "\n",
    "# 데이터 로드\n",
    "df = pd.read_csv('data/byong_data_set1.csv')\n",
    "\n",
    "# 데이터 분리\n",
    "X = df[['height', 'weight']].values\n",
    "\n",
    "# 0~99까지의 중복되지 않는 랜덤한 정수 30개 생성\n",
    "random_idx_list = np.random.choice(100, 30, replace=False)\n",
    "\n",
    "# 배열에서 random_idx_list 안에 있는 인덱스만 추출\n",
    "print(X.transpose()[:, 0:0 + 100][:, random_idx_list])"
   ]
  }
 ],
 "metadata": {
  "kernelspec": {
   "display_name": "Python 3.10.7 64-bit",
   "language": "python",
   "name": "python3"
  },
  "language_info": {
   "codemirror_mode": {
    "name": "ipython",
    "version": 3
   },
   "file_extension": ".py",
   "mimetype": "text/x-python",
   "name": "python",
   "nbconvert_exporter": "python",
   "pygments_lexer": "ipython3",
   "version": "3.10.7"
  },
  "orig_nbformat": 4,
  "vscode": {
   "interpreter": {
    "hash": "d3e10ef16274dd72e574b8fa73b58450b957d8421a2901baded3cca26fcf5dda"
   }
  }
 },
 "nbformat": 4,
 "nbformat_minor": 2
}

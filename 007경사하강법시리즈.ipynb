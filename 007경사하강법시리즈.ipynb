{
 "cells": [
  {
   "cell_type": "code",
   "execution_count": null,
   "metadata": {},
   "outputs": [],
   "source": [
    "import numpy as np\n",
    "\n",
    "# 배치 경사 하강법\n",
    "def batch_gradient_descent(X, y, learning_rate=0.01, epochs=1000):\n",
    "    # X: (N, D) N개의 데이터, D차원\n",
    "    # y: (N, 1) N개의 데이터, 1차원\n",
    "    N, D = X.shape\n",
    "    w = np.random.randn(D, 1) # (D, 1)\n",
    "    b = np.random.randn(1) # (1, )\n",
    "    for epoch in range(epochs):\n",
    "        y_hat = X @ w + b # (N, 1)\n",
    "        error = y_hat - y # (N, 1)\n",
    "        w = w - learning_rate * (X.T @ error) / N # (D, 1)\n",
    "        b = b - learning_rate * np.sum(error) / N # (1, )\n",
    "    return w, b\n",
    "\n",
    "# 확률적 경사 하강법\n",
    "def stochastic_gradient_descent(X, y, learning_rate=0.01, epochs=1000):\n",
    "    # X: (N, D) N개의 데이터, D차원\n",
    "    # y: (N, 1) N개의 데이터, 1차원\n",
    "    N, D = X.shape\n",
    "    w = np.random.randn(D, 1) # (D, 1)\n",
    "    b = np.random.randn(1) # (1, )\n",
    "    for epoch in range(epochs):\n",
    "        for i in range(N):\n",
    "            y_hat = X[i] @ w + b # (1, 1)\n",
    "            error = y_hat - y[i] # (1, 1)\n",
    "            w = w - learning_rate * (X[i].T @ error) # (D, 1)\n",
    "            b = b - learning_rate * error # (1, )\n",
    "    return w, b\n",
    "\n",
    "# 미니 배치 경사 하강법\n",
    "def mini_batch_gradient_descent(X, y, learning_rate=0.01, epochs=1000, batch_size=32):\n",
    "    # X: (N, D) N개의 데이터, D차원\n",
    "    # y: (N, 1) N개의 데이터, 1차원\n",
    "    N, D = X.shape\n",
    "    w = np.random.randn(D, 1) # (D, 1)\n",
    "    b = np.random.randn(1) # (1, )\n",
    "    for epoch in range(epochs):\n",
    "        for i in range(0, N, batch_size):\n",
    "            X_batch = X[i:i+batch_size] # (batch_size, D)\n",
    "            y_batch = y[i:i+batch_size] # (batch_size, 1)\n",
    "            y_hat = X_batch @ w + b # (batch_size, 1)\n",
    "            error = y_hat - y_batch # (batch_size, 1)\n",
    "            w = w - learning_rate * (X_batch.T @ error) / batch_size # (D, 1)\n",
    "            b = b - learning_rate * np.sum(error) / batch_size # (1, )\n",
    "    return w, b"
   ]
  }
 ],
 "metadata": {
  "kernelspec": {
   "display_name": "Python 3.10.7 64-bit",
   "language": "python",
   "name": "python3"
  },
  "language_info": {
   "name": "python",
   "version": "3.10.7"
  },
  "orig_nbformat": 4,
  "vscode": {
   "interpreter": {
    "hash": "d3e10ef16274dd72e574b8fa73b58450b957d8421a2901baded3cca26fcf5dda"
   }
  }
 },
 "nbformat": 4,
 "nbformat_minor": 2
}

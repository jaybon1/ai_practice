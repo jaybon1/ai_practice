{
 "cells": [
  {
   "cell_type": "code",
   "execution_count": 285,
   "metadata": {},
   "outputs": [],
   "source": [
    "# 라이브러리 import\n",
    "import numpy as np\n",
    "import pandas as pd"
   ]
  },
  {
   "cell_type": "code",
   "execution_count": 286,
   "metadata": {},
   "outputs": [],
   "source": [
    "# 배치 경사 하강법\n",
    "def stochastic_gradient_descent(x : np.ndarray, y : np.ndarray, theta : np.ndarray, alpha : float, m, epoch : int, batchSize):\n",
    "\t# 특성을 pivot 한다. [[키, 몸무게], [키, 몸무게]] -> [[키, 키], [몸무게, 몸무게]]\n",
    "    xTrans = x.transpose()\n",
    "    # 에포크만큼 반복문을 돌린다. \n",
    "    for i in range(0, epoch):\n",
    "    \t# 가설을 세운다.\n",
    "        hypothesis = np.dot(x, theta)\n",
    "        # 가설과 라벨(실제 결과값)을 비교하여 손실을 구한다.\n",
    "        loss = hypothesis - y\n",
    "        # 비용을 구한다.\n",
    "        cost = np.sum(loss ** 2) / (2 * m)\n",
    "        # 경사를 구한다.\n",
    "        gradient = np.dot(xTrans, loss) / m\n",
    "        # 가중치를 업데이트한다.\n",
    "        theta = theta - alpha * gradient\n",
    "    # 결과를 리턴한다.\n",
    "    return (\"배치\" , cost, theta)"
   ]
  },
  {
   "cell_type": "code",
   "execution_count": 287,
   "metadata": {},
   "outputs": [
    {
     "data": {
      "text/html": [
       "<div>\n",
       "<style scoped>\n",
       "    .dataframe tbody tr th:only-of-type {\n",
       "        vertical-align: middle;\n",
       "    }\n",
       "\n",
       "    .dataframe tbody tr th {\n",
       "        vertical-align: top;\n",
       "    }\n",
       "\n",
       "    .dataframe thead th {\n",
       "        text-align: right;\n",
       "    }\n",
       "</style>\n",
       "<table border=\"1\" class=\"dataframe\">\n",
       "  <thead>\n",
       "    <tr style=\"text-align: right;\">\n",
       "      <th></th>\n",
       "      <th>bmi</th>\n",
       "      <th>height</th>\n",
       "      <th>weight</th>\n",
       "    </tr>\n",
       "  </thead>\n",
       "  <tbody>\n",
       "    <tr>\n",
       "      <th>0</th>\n",
       "      <td>26.1</td>\n",
       "      <td>172.3</td>\n",
       "      <td>77.5</td>\n",
       "    </tr>\n",
       "    <tr>\n",
       "      <th>1</th>\n",
       "      <td>29.5</td>\n",
       "      <td>172.6</td>\n",
       "      <td>88.0</td>\n",
       "    </tr>\n",
       "    <tr>\n",
       "      <th>2</th>\n",
       "      <td>25.2</td>\n",
       "      <td>170.6</td>\n",
       "      <td>73.5</td>\n",
       "    </tr>\n",
       "    <tr>\n",
       "      <th>3</th>\n",
       "      <td>22.9</td>\n",
       "      <td>173.0</td>\n",
       "      <td>68.6</td>\n",
       "    </tr>\n",
       "    <tr>\n",
       "      <th>4</th>\n",
       "      <td>21.4</td>\n",
       "      <td>172.1</td>\n",
       "      <td>63.6</td>\n",
       "    </tr>\n",
       "  </tbody>\n",
       "</table>\n",
       "</div>"
      ],
      "text/plain": [
       "    bmi  height  weight\n",
       "0  26.1   172.3    77.5\n",
       "1  29.5   172.6    88.0\n",
       "2  25.2   170.6    73.5\n",
       "3  22.9   173.0    68.6\n",
       "4  21.4   172.1    63.6"
      ]
     },
     "execution_count": 287,
     "metadata": {},
     "output_type": "execute_result"
    }
   ],
   "source": [
    "# 데이터 로드\n",
    "df = pd.read_csv('data/byong_data_set1.csv')\n",
    "df.head()"
   ]
  },
  {
   "cell_type": "code",
   "execution_count": 288,
   "metadata": {},
   "outputs": [
    {
     "data": {
      "text/plain": [
       "array([[172.3,  77.5],\n",
       "       [172.6,  88. ],\n",
       "       [170.6,  73.5],\n",
       "       ...,\n",
       "       [177.5,  82.4],\n",
       "       [191.6, 116.1],\n",
       "       [171.4,  68. ]])"
      ]
     },
     "execution_count": 288,
     "metadata": {},
     "output_type": "execute_result"
    }
   ],
   "source": [
    "# 데이터 세팅\n",
    "x = df[['height', 'weight']].values # 특성 (feature)\n",
    "x"
   ]
  },
  {
   "cell_type": "code",
   "execution_count": 289,
   "metadata": {},
   "outputs": [
    {
     "data": {
      "text/plain": [
       "array([[26.1],\n",
       "       [29.5],\n",
       "       [25.2],\n",
       "       ...,\n",
       "       [26.1],\n",
       "       [31.6],\n",
       "       [23.1]])"
      ]
     },
     "execution_count": 289,
     "metadata": {},
     "output_type": "execute_result"
    }
   ],
   "source": [
    "y = df[['bmi']].values # 라벨 (label)\n",
    "y"
   ]
  },
  {
   "cell_type": "code",
   "execution_count": 290,
   "metadata": {},
   "outputs": [
    {
     "name": "stdout",
     "output_type": "stream",
     "text": [
      "217000\n",
      "2\n"
     ]
    }
   ],
   "source": [
    "m, n = np.shape(x)\n",
    "print(m)\n",
    "print(n)"
   ]
  },
  {
   "cell_type": "code",
   "execution_count": 291,
   "metadata": {},
   "outputs": [],
   "source": [
    "epoch = 5 # 에포크 (epoch)"
   ]
  },
  {
   "cell_type": "code",
   "execution_count": 292,
   "metadata": {},
   "outputs": [
    {
     "data": {
      "text/plain": [
       "array([[1.],\n",
       "       [1.]])"
      ]
     },
     "execution_count": 292,
     "metadata": {},
     "output_type": "execute_result"
    }
   ],
   "source": [
    "theta = np.ones(n).reshape(-1, 1) # 임의 가중치\n",
    "theta"
   ]
  },
  {
   "cell_type": "code",
   "execution_count": 293,
   "metadata": {},
   "outputs": [],
   "source": [
    "alpha = 0.00001 # 학습률"
   ]
  },
  {
   "cell_type": "code",
   "execution_count": 294,
   "metadata": {},
   "outputs": [],
   "source": [
    "batchSize = 100 # 미니 배치 크기"
   ]
  },
  {
   "cell_type": "code",
   "execution_count": 295,
   "metadata": {},
   "outputs": [
    {
     "data": {
      "text/plain": [
       "array([[172.3,  77.5],\n",
       "       [172.6,  88. ],\n",
       "       [170.6,  73.5],\n",
       "       ...,\n",
       "       [177.5,  82.4],\n",
       "       [191.6, 116.1],\n",
       "       [171.4,  68. ]])"
      ]
     },
     "execution_count": 295,
     "metadata": {},
     "output_type": "execute_result"
    }
   ],
   "source": [
    "x"
   ]
  },
  {
   "cell_type": "code",
   "execution_count": 296,
   "metadata": {},
   "outputs": [
    {
     "data": {
      "text/plain": [
       "array([[172.3, 172.6, 170.6, ..., 177.5, 191.6, 171.4],\n",
       "       [ 77.5,  88. ,  73.5, ...,  82.4, 116.1,  68. ]])"
      ]
     },
     "execution_count": 296,
     "metadata": {},
     "output_type": "execute_result"
    }
   ],
   "source": [
    "# 특성을 pivot 한다. [[키, 몸무게], [키, 몸무게]] -> [[키, 키], [몸무게, 몸무게]]\n",
    "xTrans = x.transpose()\n",
    "xTrans"
   ]
  },
  {
   "cell_type": "code",
   "execution_count": 297,
   "metadata": {},
   "outputs": [
    {
     "data": {
      "text/plain": [
       "array([[26.1],\n",
       "       [29.5],\n",
       "       [25.2],\n",
       "       ...,\n",
       "       [26.1],\n",
       "       [31.6],\n",
       "       [23.1]])"
      ]
     },
     "execution_count": 297,
     "metadata": {},
     "output_type": "execute_result"
    }
   ],
   "source": [
    "y"
   ]
  },
  {
   "cell_type": "code",
   "execution_count": 298,
   "metadata": {},
   "outputs": [
    {
     "data": {
      "text/plain": [
       "array([[249.8],\n",
       "       [260.6],\n",
       "       [244.1],\n",
       "       ...,\n",
       "       [259.9],\n",
       "       [307.7],\n",
       "       [239.4]])"
      ]
     },
     "execution_count": 298,
     "metadata": {},
     "output_type": "execute_result"
    }
   ],
   "source": [
    "# 가설을 세운다.\n",
    "hypothesis = np.dot(x, theta)\n",
    "hypothesis"
   ]
  },
  {
   "cell_type": "code",
   "execution_count": 299,
   "metadata": {},
   "outputs": [
    {
     "data": {
      "text/plain": [
       "array([[223.7],\n",
       "       [231.1],\n",
       "       [218.9],\n",
       "       ...,\n",
       "       [233.8],\n",
       "       [276.1],\n",
       "       [216.3]])"
      ]
     },
     "execution_count": 299,
     "metadata": {},
     "output_type": "execute_result"
    }
   ],
   "source": [
    "# 가설과 라벨(실제 결과값)을 비교하여 손실을 구한다.\n",
    "loss = hypothesis - y\n",
    "loss"
   ]
  },
  {
   "cell_type": "code",
   "execution_count": 300,
   "metadata": {},
   "outputs": [
    {
     "data": {
      "text/plain": [
       "25054.603702695855"
      ]
     },
     "execution_count": 300,
     "metadata": {},
     "output_type": "execute_result"
    }
   ],
   "source": [
    "# 비용을 구한다.\n",
    "cost = np.sum(loss ** 2) / (2 * m)\n",
    "cost"
   ]
  },
  {
   "cell_type": "code",
   "execution_count": 301,
   "metadata": {},
   "outputs": [
    {
     "data": {
      "text/plain": [
       "array([[0.38991081],\n",
       "       [0.16512499]])"
      ]
     },
     "execution_count": 301,
     "metadata": {},
     "output_type": "execute_result"
    }
   ],
   "source": [
    "# 경사를 구한다.\n",
    "gradient = alpha * np.dot(xTrans, loss) / m\n",
    "gradient"
   ]
  },
  {
   "cell_type": "code",
   "execution_count": 302,
   "metadata": {},
   "outputs": [
    {
     "data": {
      "text/plain": [
       "array([[0.61008919],\n",
       "       [0.83487501]])"
      ]
     },
     "execution_count": 302,
     "metadata": {},
     "output_type": "execute_result"
    }
   ],
   "source": [
    "# 가중치를 업데이트한다.\n",
    "theta = theta - gradient\n",
    "theta"
   ]
  },
  {
   "cell_type": "code",
   "execution_count": 305,
   "metadata": {},
   "outputs": [
    {
     "data": {
      "text/plain": [
       "array([[12]])"
      ]
     },
     "execution_count": 305,
     "metadata": {},
     "output_type": "execute_result"
    }
   ],
   "source": [
    "a = np.array([[1, 2]])\n",
    "b = np.array([[2], [5]])\n",
    "# a의 열의 수와 b의 행의 수가 같아야 한다.\n",
    "# a의 각 열과 b의 각 행을 곱한 후 더한다.\n",
    "np.dot(a, b)"
   ]
  },
  {
   "cell_type": "code",
   "execution_count": null,
   "metadata": {},
   "outputs": [],
   "source": [
    "a = np.array([[2, 2, 2, 2, 2], [5, 4, 3, 2, 1]])\n",
    "b = np.array([[1], [1], [1], [1], [1]])\n",
    "# a의 열의 수와 b의 행의 수가 같아야 한다.\n",
    "# a의 각 열과 b의 각 행을 곱한 후 더한다.\n",
    "np.dot(a, b) / 5\n",
    "# 나누는 값은 데이터의 개수이다."
   ]
  }
 ],
 "metadata": {
  "kernelspec": {
   "display_name": "Python 3.10.7 64-bit",
   "language": "python",
   "name": "python3"
  },
  "language_info": {
   "codemirror_mode": {
    "name": "ipython",
    "version": 3
   },
   "file_extension": ".py",
   "mimetype": "text/x-python",
   "name": "python",
   "nbconvert_exporter": "python",
   "pygments_lexer": "ipython3",
   "version": "3.10.7"
  },
  "orig_nbformat": 4,
  "vscode": {
   "interpreter": {
    "hash": "d3e10ef16274dd72e574b8fa73b58450b957d8421a2901baded3cca26fcf5dda"
   }
  }
 },
 "nbformat": 4,
 "nbformat_minor": 2
}
